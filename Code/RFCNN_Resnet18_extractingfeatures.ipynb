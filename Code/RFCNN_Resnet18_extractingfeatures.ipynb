{
 "cells": [
  {
   "cell_type": "code",
   "execution_count": 1,
   "metadata": {},
   "outputs": [
    {
     "name": "stderr",
     "output_type": "stream",
     "text": [
      "c:\\Users\\xwang\\anaconda3\\lib\\site-packages\\torchvision\\io\\image.py:13: UserWarning: Failed to load image Python extension: [WinError 127] The specified procedure could not be found\n",
      "  warn(f\"Failed to load image Python extension: {e}\")\n",
      "c:\\Users\\xwang\\anaconda3\\lib\\site-packages\\torchvision\\models\\_utils.py:208: UserWarning: The parameter 'pretrained' is deprecated since 0.13 and may be removed in the future, please use 'weights' instead.\n",
      "  warnings.warn(\n",
      "c:\\Users\\xwang\\anaconda3\\lib\\site-packages\\torchvision\\models\\_utils.py:223: UserWarning: Arguments other than a weight enum or `None` for 'weights' are deprecated since 0.13 and may be removed in the future. The current behavior is equivalent to passing `weights=ResNet18_Weights.IMAGENET1K_V1`. You can also use `weights=ResNet18_Weights.DEFAULT` to get the most up-to-date weights.\n",
      "  warnings.warn(msg)\n"
     ]
    },
    {
     "name": "stdout",
     "output_type": "stream",
     "text": [
      "Accuracy: 0.8393063583815029\n"
     ]
    }
   ],
   "source": [
    "#!/usr/bin/env python\n",
    "# coding: utf-8\n",
    "\n",
    "# In[1]:\n",
    "\n",
    "import numpy as np\n",
    "\n",
    "from torchvision.models import resnet18  #, ResNet18_Weights\n",
    "\n",
    "\n",
    "# In[2]:\n",
    "\n",
    "\n",
    "import torch\n",
    "import torch.nn as nn\n",
    "import torch.optim as optim\n",
    "import torchvision.transforms as transforms\n",
    "import torchvision\n",
    "from torch.utils.data import DataLoader\n",
    "import skimage.io\n",
    "import matplotlib.pyplot as plt\n",
    "import numpy as np\n",
    "import os\n",
    "import pandas as pd\n",
    "import torch\n",
    "from torch.utils.data import Dataset\n",
    "from skimage import io\n",
    "import torch.nn.functional as F\n",
    "import torchmetrics\n",
    "import torchmetrics\n",
    "auroc = torchmetrics.classification.AUROC(task=\"multiclass\", num_classes=3)\n",
    "from torch.optim.lr_scheduler import ReduceLROnPlateau\n",
    "# License: BSD\n",
    "# Author: Sasank Chilamkurthy\n",
    "\n",
    "# __future__ import print_function, division\n",
    "\n",
    "import torch\n",
    "import torch.nn as nn\n",
    "import torch.optim as optim\n",
    "from torch.optim import lr_scheduler\n",
    "import torch.backends.cudnn as cudnn\n",
    "import numpy as np\n",
    "import torchvision\n",
    "from torchvision import datasets, models, transforms\n",
    "import matplotlib.pyplot as plt\n",
    "import time\n",
    "import os\n",
    "import copy\n",
    "\n",
    "\n",
    "\n",
    "class GeneExpressionPredictionDataset(Dataset):\n",
    "    def __init__(self, csv_file, root_dir, transform = None):\n",
    "        self.annotations = pd.read_csv(csv_file)\n",
    "        self.root_dir = root_dir\n",
    "        self.transform = transform\n",
    "    def __len__(self):\n",
    "        return len(self.annotations) \n",
    "    def __getitem__(self,index):\n",
    "        img_path = os.path.join(self.root_dir, self.annotations.iloc[index, 0])\n",
    "        image = io.imread(img_path)\n",
    "        y_label = torch.tensor(int(self.annotations.iloc[index,1]))\n",
    "        \n",
    "        if self.transform:\n",
    "            image = self.transform(image)\n",
    "        \n",
    "        return(image, y_label)\n",
    "\n",
    "\n",
    "from torchvision import transforms\n",
    " \n",
    "\n",
    "\n",
    "dataset = GeneExpressionPredictionDataset(csv_file = r'C:\\Users\\xwang\\Dropbox (Choate)\\Isabella Dropbox\\Topology_ST\\Parent_Visium_Human_BreastCancer\\Parent_Visium_BC_spot_labels_correct.csv', root_dir = r'C:\\Users\\xwang\\Dropbox (Choate)\\Isabella Dropbox\\Topology_ST\\Parent_Visium_Human_BreastCancer\\images_cropped', transform = transforms.ToTensor())\n",
    "\n",
    "\n",
    "batch_size = 32\n",
    "\n",
    "\n",
    "device = torch.device('cuda' if torch.cuda.is_available() else 'cpu')\n",
    "\n",
    "\n",
    "data_loader = DataLoader(dataset = dataset, batch_size = batch_size, shuffle=True)\n",
    "\n",
    "\n",
    "#Load the pretrained resnet18 model\n",
    "conv1 = models.resnet18(pretrained=True)#weights=ResNet18_Weights.DEFAULT\n",
    "#Delete the Dense layers\n",
    "del conv1.fc\n",
    "\n",
    "#Set all the layers to be untrainable.\n",
    "for param in conv1.parameters():\n",
    "    param.requires_grad = False\n",
    "\n",
    "#Get the features.\n",
    "list = []\n",
    "list1 = []\n",
    "for inputs, labels in data_loader:\n",
    "   #!!!Notice: You must modify the document of resnet.py, or it will not run succcessfuly.  Just delete the Line 244 of resnet.py.(i.e. Delete x = self.fc(x).)\n",
    "   # In my computer, the path address of resnet.py is at D:\\Anaconda3\\envs\\pytorch\\Lib\\site-packages\\torchvision\\models.\n",
    "   x = conv1(inputs)\n",
    "   x=x.numpy()\n",
    "   list.append(x)\n",
    "   list1.append(labels)\n",
    "for i in range(len(list)):\n",
    "    if i == 0:\n",
    "        A = list[i]\n",
    "        B = list1[i]\n",
    "    else:\n",
    "        A = np.vstack((A,list[i]))\n",
    "        B = np.hstack((B,list1[i]))\n",
    "\n",
    "features=A.reshape(len(dataset),-1)\n",
    "y=B.reshape(len(dataset),-1)\n",
    "\n",
    "\n",
    "features_df = pd.DataFrame(features)\n",
    "\n",
    "\n",
    "\n",
    "\n",
    "#concatenating image labels\n",
    "features_df['label'] = y\n",
    "\n",
    "\n",
    "X = features_df.iloc[:, :-1]\n",
    "y = features_df.iloc[:,-1]\n",
    "\n",
    "\n",
    "\n",
    "\n",
    "\n",
    "from sklearn.model_selection import train_test_split\n",
    "\n",
    "\n",
    "\n",
    "\n",
    "\n",
    "X_train, X_test, y_train, y_test=train_test_split(\n",
    "    X,y,test_size=0.2, random_state=0)\n",
    "\n",
    "\n",
    "\n",
    "\n",
    "\n",
    "from sklearn.ensemble import RandomForestClassifier\n",
    "RF_model = RandomForestClassifier(n_estimators = 50, random_state=42)\n",
    "RF_model.fit(X_train, y_train)\n",
    "\n",
    "y_pred = RF_model.predict(X_test)\n",
    "\n",
    "\n",
    "\n",
    "\n",
    "\n",
    "from sklearn import metrics\n",
    "accuracy = metrics.accuracy_score(y_test, y_pred)\n",
    "print(\"Accuracy:\", accuracy)\n",
    "\n",
    "\n",
    "\n"
   ]
  },
  {
   "cell_type": "code",
   "execution_count": 1,
   "metadata": {},
   "outputs": [
    {
     "name": "stderr",
     "output_type": "stream",
     "text": [
      "c:\\Users\\xwang\\anaconda3\\lib\\site-packages\\torchvision\\io\\image.py:13: UserWarning: Failed to load image Python extension: [WinError 127] The specified procedure could not be found\n",
      "  warn(f\"Failed to load image Python extension: {e}\")\n"
     ]
    }
   ],
   "source": [
    "import torchvision"
   ]
  },
  {
   "cell_type": "code",
   "execution_count": 2,
   "metadata": {},
   "outputs": [
    {
     "name": "stdout",
     "output_type": "stream",
     "text": [
      "Note: you may need to restart the kernel to use updated packages.\n"
     ]
    },
    {
     "name": "stderr",
     "output_type": "stream",
     "text": [
      "'tail' is not recognized as an internal or external command,\n",
      "operable program or batch file.\n"
     ]
    }
   ],
   "source": [
    "pip list | tail -n +3 | xargs -exec pip show"
   ]
  }
 ],
 "metadata": {
  "kernelspec": {
   "display_name": "base",
   "language": "python",
   "name": "python3"
  },
  "language_info": {
   "codemirror_mode": {
    "name": "ipython",
    "version": 3
   },
   "file_extension": ".py",
   "mimetype": "text/x-python",
   "name": "python",
   "nbconvert_exporter": "python",
   "pygments_lexer": "ipython3",
   "version": "3.9.12"
  },
  "vscode": {
   "interpreter": {
    "hash": "0c374ece1ed96c92c8e74e8a2e1b6cf0f6f466e0237ec463009f36163bd343d8"
   }
  }
 },
 "nbformat": 4,
 "nbformat_minor": 2
}
